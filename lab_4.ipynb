{
 "cells": [
  {
   "cell_type": "code",
   "execution_count": 1,
   "metadata": {},
   "outputs": [
    {
     "ename": "gaierror",
     "evalue": "[Errno 11001] getaddrinfo failed",
     "output_type": "error",
     "traceback": [
      "\u001b[1;31m---------------------------------------------------------------------------\u001b[0m",
      "\u001b[1;31mgaierror\u001b[0m                                  Traceback (most recent call last)",
      "\u001b[1;32mc:\\Users\\peres\\Documents\\PythonLab\\lab_4.ipynb Cell 1'\u001b[0m in \u001b[0;36m<cell line: 7>\u001b[1;34m()\u001b[0m\n\u001b[0;32m      <a href='vscode-notebook-cell:/c%3A/Users/peres/Documents/PythonLab/lab_4.ipynb#ch0000000?line=3'>4</a>\u001b[0m \u001b[39mimport\u001b[39;00m \u001b[39mmatplotlib\u001b[39;00m\u001b[39m.\u001b[39;00m\u001b[39mpyplot\u001b[39;00m \u001b[39mas\u001b[39;00m \u001b[39mplt\u001b[39;00m\n\u001b[0;32m      <a href='vscode-notebook-cell:/c%3A/Users/peres/Documents/PythonLab/lab_4.ipynb#ch0000000?line=4'>5</a>\u001b[0m \u001b[39mimport\u001b[39;00m \u001b[39mnumpy\u001b[39;00m \u001b[39mas\u001b[39;00m \u001b[39mnp\u001b[39;00m\n\u001b[1;32m----> <a href='vscode-notebook-cell:/c%3A/Users/peres/Documents/PythonLab/lab_4.ipynb#ch0000000?line=6'>7</a>\u001b[0m IP_address \u001b[39m=\u001b[39m socket\u001b[39m.\u001b[39;49mgethostbyname(\u001b[39m\"\u001b[39;49m\u001b[39mwww.window-swap.com\u001b[39;49m\u001b[39m\"\u001b[39;49m)\n\u001b[0;32m      <a href='vscode-notebook-cell:/c%3A/Users/peres/Documents/PythonLab/lab_4.ipynb#ch0000000?line=7'>8</a>\u001b[0m \u001b[39mprint\u001b[39m(\u001b[39m\"\u001b[39m\u001b[39mWebsite IP Address is:\u001b[39m\u001b[39m\"\u001b[39m \u001b[39m+\u001b[39m IP_address)\n\u001b[0;32m      <a href='vscode-notebook-cell:/c%3A/Users/peres/Documents/PythonLab/lab_4.ipynb#ch0000000?line=8'>9</a>\u001b[0m data \u001b[39m=\u001b[39m ping(IP_address, size\u001b[39m=\u001b[39m\u001b[39m4\u001b[39m, count\u001b[39m=\u001b[39m\u001b[39m10\u001b[39m\u001b[39m+\u001b[39m\u001b[39m25\u001b[39m, verbose\u001b[39m=\u001b[39m\u001b[39mTrue\u001b[39;00m)\n",
      "\u001b[1;31mgaierror\u001b[0m: [Errno 11001] getaddrinfo failed"
     ]
    }
   ],
   "source": [
    "import socket\n",
    "from pythonping import ping\n",
    "import requests\n",
    "import matplotlib.pyplot as plt\n",
    "import numpy as np\n",
    "\n",
    "IP_address = socket.gethostbyname(\"www.window-swap.com\")\n",
    "print(\"Website IP Address is:\" + IP_address)\n",
    "data = ping(IP_address, size=4, count=10+25, verbose=True)"
   ]
  },
  {
   "cell_type": "code",
   "execution_count": 3,
   "metadata": {},
   "outputs": [
    {
     "data": {
      "image/png": "[encoded data removed]",
      "text/plain": [
       "<Figure size 432x288 with 1 Axes>"
      ]
     },
     "metadata": {
      "needs_background": "light"
     },
     "output_type": "display_data"
    }
   ],
   "source": [
    "dataRTT=list()\n",
    "for i in data:\n",
    "    dataRTT.append(i.time_elapsed_ms)\n",
    "%matplotlib inline\n",
    "plt.hist(dataRTT, bins=\"auto\")\n",
    "plt.title(\"Нормальное распредление RTT\")\n",
    "plt.show()"
   ]
  },
  {
   "cell_type": "code",
   "execution_count": 4,
   "metadata": {},
   "outputs": [
    {
     "name": "stdout",
     "output_type": "stream",
     "text": [
      "{'status': 'success', 'country': 'Germany', 'countryCode': 'DE', 'region': 'HE', 'regionName': 'Hesse', 'city': 'Frankfurt am Main', 'zip': '60313', 'lat': 50.1109, 'lon': 8.68213, 'timezone': 'Europe/Berlin', 'isp': 'Amazon Technologies Inc.', 'org': 'AWS CloudFront (GLOBAL)', 'as': 'AS16509 Amazon.com, Inc.', 'query': '18.66.112.2'}\n",
      "\n",
      "Широта: 50.1109\n",
      "Долгота: 8.68213\n"
     ]
    }
   ],
   "source": [
    "\n",
    "response = requests.get(url=f'http://ip-api.com/json/{IP_address}').json()\n",
    "\n",
    "print(response)\n",
    "lat = response.get('lat')\n",
    "lon = response.get('lon')\n",
    "print(\"\\nШирота:\", lat)\n",
    "print(\"Долгота:\", lon)"
   ]
  }
 ],
 "metadata": {
  "kernelspec": {
   "display_name": "Python 3",
   "language": "python",
   "name": "python3"
  },
  "language_info": {
   "codemirror_mode": {
    "name": "ipython",
    "version": 3
   },
   "file_extension": ".py",
   "mimetype": "text/x-python",
   "name": "python",
   "nbconvert_exporter": "python",
   "pygments_lexer": "ipython3",
   "version": "3.10.11"
  },
  "orig_nbformat": 4,
  "vscode": {
   "interpreter": {
    "hash": "4cce7cbffb9a9669a671b8fe9296ca06e8c7e731859f5db1689da9bcc19b8162"
   }
  }
 },
 "nbformat": 4,
 "nbformat_minor": 2
}
