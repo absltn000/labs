{
 "cells": [
  {
   "cell_type": "code",
   "execution_count": 7,
   "metadata": {},
   "outputs": [
    {
     "name": "stdout",
     "output_type": "stream",
     "text": [
      "Оперативные данные \n",
      " По состоянию на 11 мая 11:00\n"
     ]
    }
   ],
   "source": [
    "import requests\n",
    "import re\n",
    "from bs4 import BeautifulSoup\n",
    "from bs4.diagnose import diagnose\n",
    "\n",
    "url = \"https://стопкоронавирус.рф/information\"\n",
    "responce = requests.get(url).text #Получаем HTML код в виде текста по ссылке\n",
    "soup = BeautifulSoup(responce,'html.parser') #Создаем объект BeautifulSoup\n",
    "\n",
    "block=soup.find_all('div',{'class':'cv-section__title-wrapper'})[1] #Ищем элементы div с классом cv-section__title-wrapper\n",
    "title=list()\n",
    "for string in block.h1.stripped_strings: #С помощью итератора получаем все текстовые объекты дочернего теага h1\n",
    "    title.append(string)\n",
    "h1_title=title[0]\n",
    "small_title=block.h1.small.string        #Получаем текст из дочернего элемента small\n",
    "print(h1_title,'\\n',small_title)\n"
   ]
  },
  {
   "cell_type": "code",
   "execution_count": 2,
   "metadata": {},
   "outputs": [
    {
     "name": "stdout",
     "output_type": "stream",
     "text": [
      "Госпитализировано:  49\n"
     ]
    }
   ],
   "source": [
    "niz=soup.find_all(\"cv-spread-overview\")[0]    #Ищем тег cv-spread-overview\n",
    "nizstr=str(niz)                                  #Преобразовываем объект в строку\n",
    "nizstr=nizstr[nizstr.find('RU-NIZ',0,len(nizstr)):len(nizstr)] #Ищем данные по RU-NIZ  и удаляем предыдущую подстроку\n",
    "\n",
    "count_hos=nizstr[nizstr.find('hospitalized',0,len(nizstr))+len('hospitalized')+2:nizstr.find('sick_incr',0,len(nizstr))-2] #Ищем первое вхождения подстроки hospitalized и берем ее значение\n",
    "count_hos=int(count_hos)\n",
    "print('Госпитализировано: ',count_hos)"
   ]
  },
  {
   "cell_type": "code",
   "execution_count": 14,
   "metadata": {},
   "outputs": [
    {
     "name": "stdout",
     "output_type": "stream",
     "text": [
      "41,2%\n"
     ]
    }
   ],
   "source": [
    "div=soup.find_all('div',{\"class\":\"cv-stats-vaccine__item\"})\n",
    "print(div[2].h3.string)\n"
   ]
  },
  {
   "cell_type": "code",
   "execution_count": 5,
   "metadata": {},
   "outputs": [
    {
     "name": "stdout",
     "output_type": "stream",
     "text": [
      "Оперативные данные \n",
      " По состоянию на 11 мая 11:00 \n",
      " Госпитализировано в Нижнем Новгороде: 49\n"
     ]
    }
   ],
   "source": [
    "print(h1_title,'\\n',small_title,'\\n Госпитализировано в Нижнем Новгороде:',count_hos)"
   ]
  }
 ],
 "metadata": {
  "kernelspec": {
   "display_name": "Python 3",
   "language": "python",
   "name": "python3"
  },
  "language_info": {
   "codemirror_mode": {
    "name": "ipython",
    "version": 3
   },
   "file_extension": ".py",
   "mimetype": "text/x-python",
   "name": "python",
   "nbconvert_exporter": "python",
   "pygments_lexer": "ipython3",
   "version": "3.10.11"
  },
  "orig_nbformat": 4,
  "vscode": {
   "interpreter": {
    "hash": "4cce7cbffb9a9669a671b8fe9296ca06e8c7e731859f5db1689da9bcc19b8162"
   }
  }
 },
 "nbformat": 4,
 "nbformat_minor": 2
}
